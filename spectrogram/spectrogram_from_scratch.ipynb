{
 "cells": [
  {
   "cell_type": "markdown",
   "metadata": {},
   "source": [
    "# Spectrogram from scratch\n",
    "\n",
    "Based on [Implement the Spectrogram from scratch in python - Yumi's Blog](https://fairyonice.github.io/implement-the-spectrogram-from-scratch-in-python.html)"
   ]
  },
  {
   "cell_type": "markdown",
   "metadata": {},
   "source": [
    "Spectrogram is an awesome tool to analyze the properties of signals that evolve over time. There are lots of Spect4ogram modules available in python e.g. matplotlib.pyplot.specgram. Users need to specify parameters such as \"window size\", \"the number of time points to overlap\" and \"sampling rates\". So without correct understanding of Spectrogram, I believe that it is difficult to utilize these existing modules.\n",
    "\n",
    "In this blog post, I will implement Spectrogram from scratch so that its implementation is cristal clear. This blog post assumes that the audience understand Discrete Fourier Transform (DFT). If you do not understand it, I kindly ask you to read my previous blog post Review on Discrete Fourier Transform.\n",
    "\n",
    "Among all the youtube tutorial about Spectrogram, I found The Short Time Fourier Transform | Digital Signal Processing the most useful. This blog post also try to reproduce the plots shown in this video."
   ]
  },
  {
   "cell_type": "code",
   "execution_count": null,
   "metadata": {},
   "outputs": [],
   "source": []
  }
 ],
 "metadata": {
  "kernelspec": {
   "display_name": "Python 3",
   "language": "python",
   "name": "python3"
  },
  "language_info": {
   "codemirror_mode": {
    "name": "ipython",
    "version": 3
   },
   "file_extension": ".py",
   "mimetype": "text/x-python",
   "name": "python",
   "nbconvert_exporter": "python",
   "pygments_lexer": "ipython3",
   "version": "3.6.9"
  }
 },
 "nbformat": 4,
 "nbformat_minor": 2
}
